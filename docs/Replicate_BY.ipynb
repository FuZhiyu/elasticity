{
 "cells": [
  {
   "cell_type": "markdown",
   "metadata": {},
   "source": [
    "In this file, I try to replicate two cases in BY04 using 1) numerical algorithms; 2) analytical approximation provided in their appendiex. I found\n",
    "\n",
    "- My results based on numerical methods are very close to the loglinear approximation;\n",
    "- In the first case w/o stochastic volatility, the results in BY04 are also close, with slightly larger discrepancy from loglinear approximation;\n",
    "- When there is stochastic volatility, BY04 reported a too high risk premium and too low riskfree rate relative to log linear approximation. They may give the wrong parameter for $\\sigma_w$."
   ]
  },
  {
   "cell_type": "markdown",
   "metadata": {},
   "source": [
    "# Model Setup and algorithms\n",
    "\n",
    "The dynamics of the model objects are described by the following equations\n",
    "$$ \\begin{aligned}\n",
    "x_{t+1}=& \\rho x_{t}+\\varphi_{e} \\sigma_{t} e_{t+1} \\\\\n",
    "g_{t+1}=& \\mu+x_{t}+\\sigma_{t} \\eta_{t+1} \\\\\n",
    "\\sigma_{t+1}^{2}=& \\sigma^{2}+v_{1}\\left(\\sigma_{t}^{2}-\\sigma^{2}\\right)+\\sigma_{w} w_{t+1} \\\\\n",
    "\\end{aligned}\n",
    "$$\n",
    "where $e_{t+1}, \\eta_{t+1}, w_{t+1} \\sim N.i . i . d .(0,1)$. \n",
    "\n",
    "Notice we do not have the separately dividend process as in the original paper.\n",
    "\n",
    "The law of motions are defined in `src/LRRModel.jl` called `gfunc`, `x'func` and `σ'func`.\n",
    "\n",
    "Under Epstein-Zin utility function, the SDF is given as: \n",
    "\n",
    "$$M_{t+1} = β^θ (\\frac{Y_{t+1}}{Y_t})^{-\\frac{\\theta}{\\psi}}R_{t+1}^{\\theta-1}$$\n",
    "\n"
   ]
  },
  {
   "cell_type": "markdown",
   "metadata": {},
   "source": [
    "\n",
    "## Solve the equilibrium\n",
    "\n",
    "Therefore, the asset pricing equation is:\n",
    "\n",
    "$$\\begin{aligned}\n",
    "\\mathbb{E}\\left[\\beta^{\\theta}\\left(\\frac{Y_{t+1}}{Y_{t}}\\right)^{-\\frac{\\theta}{\\varphi}}R^{\\theta}_{t+1}\\right] =& 1\\\\\n",
    "\\mathbb{E}\\left[\\beta^{\\theta}\\exp\\left((1-γ)g\\right)(\\frac{pd(x_{t+1},\\sigma_{t+1})+1}{pd(x_{t},\\sigma_{t})})^{\\theta}\\right] =& 1\n",
    "\\end{aligned}\n",
    "$$\n",
    "where $pd(x,\\sigma)$ is the price-consumption ratio given the states of the economy. \n",
    "The second equation follows as $R_{t+1}=\\exp(g)\\frac{pd(x_{t+1},\\sigma_{t+1})+1}{pd(x_{t},\\sigma_{t})}$.\n",
    "\n",
    "To solve this equation, transform it as:\n",
    "$$pd(x,\\sigma) = \\mathbb{E}\\left[β^{θ}\\exp\\left((1-γ)g\\right)(pd(x',\\sigma')+1)^{θ}\\right]^{\\frac{1}{θ}}$$\n",
    "\n",
    "which gives a fixed point problem. Therefore, we could start with a guess of $pd(x,\\sigma)$ and \n",
    "iterate the expectation on the right hand side until converge.\n",
    "\n",
    "The fixed point problem is defined in `src/LRRModel.jl` called `iteratepd!`.\n",
    "\n",
    "With P/D ratio, we can solve the riskfree rate $R_{f,t+1}=1/\\mathbb{E}[M_{t+1}]$ and \n",
    "expected return $\\mathbb{E}R_{t+1}$.\n",
    "\n",
    "\n",
    "# Case I: Time-varying growth rate\n",
    "\n",
    "The parameterization strictly follow the ones described in paper. Specifically, in the first run we try to replicate the \n",
    "result in table II of BY2004 where $\\sigma_w=0$.\n"
   ]
  },
  {
   "cell_type": "code",
   "execution_count": null,
   "metadata": {},
   "outputs": [],
   "source": [
    "cd(@__DIR__)\n",
    "using Printf, DataFrames\n",
    "include(\"../../../src/LRRModel.jl\")\n",
    "using .LRRModel"
   ]
  },
  {
   "cell_type": "code",
   "execution_count": 305,
   "metadata": {},
   "outputs": [],
   "source": [
    "p1 = LRRParameters(\n",
    "    β = 0.998, # time discounting at monthly level\n",
    "    γ = 10.0, # RRA\n",
    "    φ = 1.5, # IES\n",
    "    μ = 0.0015, # mean growth rate\n",
    "    ρ = 0.979, # persistence in the growth rate\n",
    "    σ̄ = 0.0078, # mean volatility\n",
    "    φe = 0.044, # loading of x on growth risks\n",
    "    σw = 0.0, # the volatility of volatility\n",
    "    ν₁ = 1.0, # persistence of volatility\n",
    "    \n",
    "    # # the design of the algorithm is requires more than 1 column in σ; \n",
    "    # create two columns to fullfil the requirement. not used in anywyere.\n",
    "    σmax = 0.0078 + 1e-8,\n",
    "    σmin = 0.0078 - 1e-8,\n",
    "    nσ = 3, \n",
    "    nx = 30\n",
    ");"
   ]
  },
  {
   "cell_type": "markdown",
   "metadata": {},
   "source": [
    "Solve the fixed point problem stated above to obtain pd:"
   ]
  },
  {
   "cell_type": "code",
   "execution_count": 2,
   "metadata": {},
   "outputs": [],
   "source": [
    "p1.pdmat .= 500 # initial guess\n",
    "res = fixedpoint((out, x)->iteratepd!(out, x, p1), p1.pdmat, show_trace = false, iterations = 500, m = 4)\n",
    "p1.pdmat .= res.zero\n",
    "solve𝔼R!(p1) # solve ER and Rf"
   ]
  },
  {
   "cell_type": "markdown",
   "metadata": {},
   "source": [
    "The model is simulated at the monthly level. I initialize the economy at $x=0$ and feed in \n",
    "randomly drawed shocks and iterate the state variables according to their law of motions.\n",
    "$R_f$, $\\mathbb{E}R$ are calculated along the way by imputation on the state space. \n",
    "$R_e = \\mathbb{E}R - Rf$ is the risk premium. The function `simulatedmodel` is defined in `src/LRRModel.jl`"
   ]
  },
  {
   "cell_type": "code",
   "execution_count": 6,
   "metadata": {},
   "outputs": [],
   "source": [
    "sim = simulatemodel(p1, 1000000);"
   ]
  },
  {
   "cell_type": "markdown",
   "metadata": {},
   "source": [
    "Annualized risk premium (not reported in BY2004):"
   ]
  },
  {
   "cell_type": "code",
   "execution_count": 48,
   "metadata": {},
   "outputs": [
    {
     "name": "stdout",
     "output_type": "stream",
     "text": [
      "Simulated risk premium on consumption: 1.58"
     ]
    }
   ],
   "source": [
    "@printf(\"Simulated risk premium on consumption: %.2f\", mean(sim.Re) * 12 * 100)"
   ]
  },
  {
   "cell_type": "markdown",
   "metadata": {},
   "source": [
    "By adding long run risk, we indeed generate sizable risk premium on consumptions. With an CRRA with similar parameterization, the risk premium will only be \n",
    "$\\gamma  σ^2 \\approx 0.73%$.\n",
    "\n",
    "\n",
    "Annualized risk free rate:"
   ]
  },
  {
   "cell_type": "code",
   "execution_count": 55,
   "metadata": {},
   "outputs": [
    {
     "name": "stdout",
     "output_type": "stream",
     "text": [
      "Simulated riskfree rate: 2.58"
     ]
    }
   ],
   "source": [
    "@printf(\"Simulated riskfree rate: %.2f\", mean(log.(sim.Rf)) * 100 * 12)"
   ]
  },
  {
   "cell_type": "markdown",
   "metadata": {},
   "source": [
    "The average risk-free rate with the same parameterization reported in the paper is 1.34%. \n",
    "\n",
    "To verify my result, we can directly compute the analytical approximation to the model using the log linear approximation provided in their appendix:"
   ]
  },
  {
   "cell_type": "code",
   "execution_count": 232,
   "metadata": {},
   "outputs": [],
   "source": [
    "```\n",
    "Definition of variables can be found in the appendix with the same symbol.\n",
    "```function loglinearsolution(param, κ₁ = 0.997, κ₁m = 0.9966)\n",
    "    @unpack_LRRParameters param\n",
    "    A1 = (1-1/φ)/(1-κ₁ * ρ) # Eq. A5\n",
    "    A2 = 0.5 * ((θ - θ/φ)^2 + (θ * A1 * κ₁ * φe)^2)/θ/(1-κ₁ * ν₁) # Eq. A7\n",
    "    B = κ₁ * A1 * φe # defined above Eq. A9\n",
    "    λmη = -γ # defined below Eq. A10\n",
    "    λmw = (1-θ) * A2 * κ₁ # defined below Eq. A10\n",
    "    λme = (1-θ) * B # defined below Eq. A10\n",
    "    σa2 = (1 + B^2) * σ̄^2 + (A2 * κ₁ * σw)^2 # Eq. A9, approximated using mean of volatility \n",
    "\n",
    "    re = -λmη * σ̄^2 + λme * B * σ̄^2 + κ₁ * A2 * λmw * σw^2 - 0.5 * σa2 # risk premium, A11 \n",
    "    rf = -log(β) + 1/φ * μ + (1-θ)/θ * re - 1/2/θ * ((λmη^2 + λme^2) * σ̄^2 + λmw^2 * σw^2) # risk free rate, A28\n",
    "\n",
    "    # below I use the approximation formula to calculate the risk premium on the leveraged dividend (the market return)\n",
    "    A1m = (ψd - 1/φ)/(1-κ₁m * ρ) # Eq. A16\n",
    "    βme = κ₁m * A1m * φe # below Eq. A12\n",
    "    Hm = (λmη^2 + (-λme + βme)^2 + φd^2) # below Eq. A18\n",
    "    A2m = ((1-θ) * A2 * (1-κ₁ * ν₁) + 0.5 * Hm) / (1-κ₁m * ν₁) # Eq A.20\n",
    "    βmw = κ₁ * A2m # beloe Eq A.13\n",
    "    varrm2 = (βme^2 + φd^2) * σ̄^2 + βmw^2 * σw^2 # Eq. A13\n",
    "    rem = βme * λme * σ̄^2 + βmw * λmw * σw^2 - 0.5 * varrm2 # Eq. A14, risk premium for the market return\n",
    "    return A1, A2, re, rem, rf\n",
    "end\n",
    "\n",
    "# κ₁ depends on the average P/D ratio. They report κ₁ = 0.997 in footnote 4.\n",
    "# Changes of κ₁ in reasonable range has little effect on the approximation.\n",
    "z̄1 = mean(log.(sim.pd))\n",
    "κ₁ = exp(z̄1)/(exp(z̄1) + 1) # footnote 4\n",
    "\n",
    "z̄1m = log(25.02*12) # from Table IV price-dividen ratio\n",
    "κ₁m = exp(z̄1m)/(exp(z̄1m) + 1)\n",
    "p1A1, p1A2, p1re, p1rem, p1rf = loglinearsolution(p1, κ₁, κ₁m);"
   ]
  },
  {
   "cell_type": "code",
   "execution_count": 233,
   "metadata": {},
   "outputs": [
    {
     "name": "stdout",
     "output_type": "stream",
     "text": [
      "Simulated rf: 2.58\n",
      "Approximated rf: 2.60\n",
      "Reported rf in Table II: 1.34"
     ]
    }
   ],
   "source": [
    "@printf(\"Simulated rf: %.2f\\n\", mean(log.(sim.Rf)) * 100 * 12)\n",
    "@printf(\"Approximated rf: %.2f\\n\", p1rf * 12 * 100)\n",
    "@printf(\"Reported rf in Table II: 1.34\")"
   ]
  },
  {
   "cell_type": "code",
   "execution_count": 234,
   "metadata": {},
   "outputs": [
    {
     "name": "stdout",
     "output_type": "stream",
     "text": [
      "Simulated risk premium Re: 1.58\n",
      "Approximated risk premium Re: 1.51"
     ]
    }
   ],
   "source": [
    "@printf(\"Simulated risk premium Re: %.2f\\n\", mean(sim.Re) * 12 * 100)\n",
    "@printf(\"Approximated risk premium Re: %.2f\", p1re * 12 * 100)"
   ]
  },
  {
   "cell_type": "markdown",
   "metadata": {},
   "source": [
    "As shown above, the numerical results are quite close to the log-linear approximation, and is actually much closer than the number reported in Table II. \n",
    "\n",
    "Though we do not calculate the risk premium on the leveraged dividend numerically, the analytical solution provides an approximation to it:"
   ]
  },
  {
   "cell_type": "code",
   "execution_count": 235,
   "metadata": {},
   "outputs": [
    {
     "name": "stdout",
     "output_type": "stream",
     "text": [
      "Equity premium on the market return: 4.13\n",
      "Equity premium reported in Table II: 4.20"
     ]
    }
   ],
   "source": [
    "@printf(\"Equity premium on the market return: %.2f\\n\", p1rem * 12 * 100)\n",
    "@printf(\"Equity premium reported in Table II: 4.20\")"
   ]
  },
  {
   "cell_type": "markdown",
   "metadata": {},
   "source": [
    "which is decently close."
   ]
  },
  {
   "cell_type": "markdown",
   "metadata": {},
   "source": [
    "If so far the discrepancy between my results and BY04 could be explained by numerical inaccuracy, the comparison of stochastic volatility below shows there is more than that."
   ]
  },
  {
   "cell_type": "markdown",
   "metadata": {},
   "source": [
    "# Case II: Stochastic volatility"
   ]
  },
  {
   "cell_type": "markdown",
   "metadata": {},
   "source": [
    "We parameterize the model in the same way, except now we activate the stochastic volatility , i.e., $\\nu_1$ and $\\sigma_w$. The parameterization follows Table IV in the paper."
   ]
  },
  {
   "cell_type": "code",
   "execution_count": 292,
   "metadata": {},
   "outputs": [],
   "source": [
    "p2 = LRRParameters(\n",
    "    β = 0.998, # time discounting at monthly level\n",
    "    γ = 10.0, # RRA\n",
    "    φ = 1.5, # IES\n",
    "    μ = 0.0015, # mean growth rate\n",
    "    ρ = 0.979, # persistence in the growth rate\n",
    "    σ̄ = 0.0078, # mean volatility\n",
    "    φe = 0.044, # loading of x on growth risks\n",
    "    # activate stochastic volatility\n",
    "    σw = 0.23 * 1e-5, # the volatility of volatility\n",
    "    ν₁ = 0.987, # persistence of volatility\n",
    "    nσ = 30, \n",
    "    nx = 30\n",
    ");"
   ]
  },
  {
   "cell_type": "code",
   "execution_count": 237,
   "metadata": {},
   "outputs": [],
   "source": [
    "p2.pdmat .= 500 # initial guess\n",
    "res = fixedpoint((out, x)->iteratepd!(out, x, p2), p2.pdmat, iterations = 500, m = 4, ftol = 1e-6)\n",
    "p2.pdmat .= res.zero;"
   ]
  },
  {
   "cell_type": "code",
   "execution_count": 238,
   "metadata": {},
   "outputs": [],
   "source": [
    "solve𝔼R!(p2)\n",
    "sim2 = simulatemodel(p2, 1000000);"
   ]
  },
  {
   "cell_type": "code",
   "execution_count": 239,
   "metadata": {},
   "outputs": [],
   "source": [
    "z̄1 = mean(log.(sim2.pd))\n",
    "κ₁ = exp(z̄1)/(exp(z̄1) + 1) # footnote 4\n",
    "\n",
    "z̄1m = log(25.02*12) # from Table IV price-dividen ratio\n",
    "κ₁m = exp(z̄1m)/(exp(z̄1m) + 1)\n",
    "\n",
    "p2A1, p2A2, p2re, p2rem, p2rf = loglinearsolution(p2, κ₁, κ₁m);"
   ]
  },
  {
   "cell_type": "markdown",
   "metadata": {},
   "source": [
    "Below I compare the effects of the stochastic volatility on risk premia and riskfree rates."
   ]
  },
  {
   "cell_type": "markdown",
   "metadata": {},
   "source": [
    "### Comparison of risk premia on consumption"
   ]
  },
  {
   "cell_type": "code",
   "execution_count": 250,
   "metadata": {},
   "outputs": [
    {
     "data": {
      "text/html": [
       "<table class=\"data-frame\"><thead><tr><th></th><th>Model</th><th>Simulation</th><th>Loglinear</th></tr><tr><th></th><th>String</th><th>Float64</th><th>Float64</th></tr></thead><tbody><p>2 rows × 3 columns</p><tr><th>1</th><td>σw = 0</td><td>1.579</td><td>1.515</td></tr><tr><th>2</th><td>σw = 0.23e-5</td><td>1.616</td><td>1.552</td></tr></tbody></table>"
      ],
      "text/latex": [
       "\\begin{tabular}{r|ccc}\n",
       "\t& Model & Simulation & Loglinear\\\\\n",
       "\t\\hline\n",
       "\t& String & Float64 & Float64\\\\\n",
       "\t\\hline\n",
       "\t1 & σw = 0 & 1.579 & 1.515 \\\\\n",
       "\t2 & σw = 0.23e-5 & 1.616 & 1.552 \\\\\n",
       "\\end{tabular}\n"
      ],
      "text/plain": [
       "\u001b[1m2×3 DataFrame\u001b[0m\n",
       "\u001b[1m Row \u001b[0m│\u001b[1m Model        \u001b[0m\u001b[1m Simulation \u001b[0m\u001b[1m Loglinear \u001b[0m\n",
       "\u001b[1m     \u001b[0m│\u001b[90m String       \u001b[0m\u001b[90m Float64    \u001b[0m\u001b[90m Float64   \u001b[0m\n",
       "─────┼─────────────────────────────────────\n",
       "   1 │ σw = 0             1.579      1.515\n",
       "   2 │ σw = 0.23e-5       1.616      1.552"
      ]
     },
     "execution_count": 250,
     "metadata": {},
     "output_type": "execute_result"
    }
   ],
   "source": [
    "dtre = DataFrame(\n",
    "    Model = [\"σw = 0\", \"σw = 0.23e-5\"], \n",
    "    Simulation = round.([mean(sim.Re); mean(sim2.Re)] * 12 * 100, digits = 3), \n",
    "    Loglinear = round.([p1re, p2re] * 12 * 100, digits = 3)\n",
    ")"
   ]
  },
  {
   "cell_type": "markdown",
   "metadata": {},
   "source": [
    "As shown in the table above, according to my numerical results, $\\sigma_w = 0.23 * 10^{-5}$ is not able to generate a large boost to risk premium. This is also consistent with the loglinear approximations. My simulation does not have risk premia on the market return, but we can compare it using loglinear approximations:"
   ]
  },
  {
   "cell_type": "markdown",
   "metadata": {},
   "source": [
    "### Comparison of risk premia on market returns"
   ]
  },
  {
   "cell_type": "code",
   "execution_count": 248,
   "metadata": {},
   "outputs": [
    {
     "data": {
      "text/html": [
       "<table class=\"data-frame\"><thead><tr><th></th><th>Model</th><th>Loglinear</th><th>BY</th></tr><tr><th></th><th>String</th><th>Float64</th><th>Float64</th></tr></thead><tbody><p>2 rows × 3 columns</p><tr><th>1</th><td>σw = 0</td><td>4.127</td><td>4.2</td></tr><tr><th>2</th><td>σw = 0.23e-5</td><td>4.321</td><td>6.84</td></tr></tbody></table>"
      ],
      "text/latex": [
       "\\begin{tabular}{r|ccc}\n",
       "\t& Model & Loglinear & BY\\\\\n",
       "\t\\hline\n",
       "\t& String & Float64 & Float64\\\\\n",
       "\t\\hline\n",
       "\t1 & σw = 0 & 4.127 & 4.2 \\\\\n",
       "\t2 & σw = 0.23e-5 & 4.321 & 6.84 \\\\\n",
       "\\end{tabular}\n"
      ],
      "text/plain": [
       "\u001b[1m2×3 DataFrame\u001b[0m\n",
       "\u001b[1m Row \u001b[0m│\u001b[1m Model        \u001b[0m\u001b[1m Loglinear \u001b[0m\u001b[1m BY      \u001b[0m\n",
       "\u001b[1m     \u001b[0m│\u001b[90m String       \u001b[0m\u001b[90m Float64   \u001b[0m\u001b[90m Float64 \u001b[0m\n",
       "─────┼──────────────────────────────────\n",
       "   1 │ σw = 0            4.127     4.2\n",
       "   2 │ σw = 0.23e-5      4.321     6.84"
      ]
     },
     "execution_count": 248,
     "metadata": {},
     "output_type": "execute_result"
    }
   ],
   "source": [
    "dtrem = DataFrame(Model = [\"σw = 0\", \"σw = 0.23e-5\"], \n",
    "        Loglinear = round.([p1rem, p2rem] * 12 * 100, digits = 3), \n",
    "        BY = round.([4.20, 6.84], digits = 3)\n",
    "    )"
   ]
  },
  {
   "cell_type": "markdown",
   "metadata": {},
   "source": [
    "The approximation formula suggests an increase of 0.16% in the risk premia, while BY report a 2.5% increase in Table IV."
   ]
  },
  {
   "cell_type": "markdown",
   "metadata": {},
   "source": [
    "### Comparison of riskfree rates"
   ]
  },
  {
   "cell_type": "code",
   "execution_count": 246,
   "metadata": {},
   "outputs": [
    {
     "data": {
      "text/html": [
       "<table class=\"data-frame\"><thead><tr><th></th><th>Model</th><th>Simulation</th><th>Loglinear</th><th>BY</th></tr><tr><th></th><th>String</th><th>Float64</th><th>Float64</th><th>Float64</th></tr></thead><tbody><p>2 rows × 4 columns</p><tr><th>1</th><td>σw = 0</td><td>2.584</td><td>2.6</td><td>1.34</td></tr><tr><th>2</th><td>σw = 0.23e-5</td><td>2.576</td><td>2.581</td><td>0.93</td></tr></tbody></table>"
      ],
      "text/latex": [
       "\\begin{tabular}{r|cccc}\n",
       "\t& Model & Simulation & Loglinear & BY\\\\\n",
       "\t\\hline\n",
       "\t& String & Float64 & Float64 & Float64\\\\\n",
       "\t\\hline\n",
       "\t1 & σw = 0 & 2.584 & 2.6 & 1.34 \\\\\n",
       "\t2 & σw = 0.23e-5 & 2.576 & 2.581 & 0.93 \\\\\n",
       "\\end{tabular}\n"
      ],
      "text/plain": [
       "\u001b[1m2×4 DataFrame\u001b[0m\n",
       "\u001b[1m Row \u001b[0m│\u001b[1m Model        \u001b[0m\u001b[1m Simulation \u001b[0m\u001b[1m Loglinear \u001b[0m\u001b[1m BY      \u001b[0m\n",
       "\u001b[1m     \u001b[0m│\u001b[90m String       \u001b[0m\u001b[90m Float64    \u001b[0m\u001b[90m Float64   \u001b[0m\u001b[90m Float64 \u001b[0m\n",
       "─────┼──────────────────────────────────────────────\n",
       "   1 │ σw = 0             2.584      2.6       1.34\n",
       "   2 │ σw = 0.23e-5       2.576      2.581     0.93"
      ]
     },
     "execution_count": 246,
     "metadata": {},
     "output_type": "execute_result"
    }
   ],
   "source": [
    "dtrf = DataFrame(\n",
    "    Model = [\"σw = 0\", \"σw = 0.23e-5\"], \n",
    "    Simulation = round.([mean(log.(sim.Rf)); mean(log.(sim2.Rf))] * 12 * 100, digits = 3), \n",
    "    Loglinear = round.([p1rf, p2rf] * 12 * 100, digits = 3),\n",
    "    BY = [1.34; 0.93]\n",
    ")"
   ]
  },
  {
   "cell_type": "markdown",
   "metadata": {},
   "source": [
    "The stochastic volatility does not generate significant precautionary saving, either, while BY reported a reduction around 40 basis points in the riskfree rate."
   ]
  },
  {
   "cell_type": "markdown",
   "metadata": {},
   "source": [
    "# Does my result make sense?"
   ]
  },
  {
   "cell_type": "markdown",
   "metadata": {},
   "source": [
    "We could use the loglinear approximation to understand how stochastic volatility changes risk premia. The risk premium on consumption is given in A11, copied here:"
   ]
  },
  {
   "cell_type": "markdown",
   "metadata": {},
   "source": [
    "$$E_{t}\\left[r_{a, t+1}-r_{f, t}\\right]=-\\lambda_{m, \\eta} \\sigma_{t}^{2}+\\lambda_{m, e} B \\sigma_{t}^{2}+\\kappa_{1} A_{2} \\lambda_{m, w} \\sigma_{w}^{2}-0.5 var_{t}\\left(r_{a, t+1}\\right)$$\n",
    "\n",
    "where $\\lambda_{m, \\eta}=-\\gamma$, $\\lambda_{m, e} = (1-\\theta)B$, and $B=\\kappa_{1} \\frac{\\varphi_{e}}{1-\\kappa_{1} \\rho}\\left(1-\\frac{1}{\\psi}\\right)$. \n",
    "\n",
    "Observe that the parameters governing stochastic volatility does not enter the first two terms. Hence, stochastic volatility can boost risk premium only through the third term $\\kappa_{1} A_{2} \\lambda_{m, w} \\sigma_{w}^{2}$. The expressions for $A_2$ and $\\lambda_{m,w}$ are given at A7 and A10:"
   ]
  },
  {
   "cell_type": "markdown",
   "metadata": {},
   "source": [
    "$$A_{2}=\\frac{0.5\\left[\\left(\\theta-\\frac{\\theta}{\\psi}\\right)^{2}+\\left(\\theta A_{1} \\kappa_{1} \\varphi_{e}\\right)^{2}\\right]}{\\theta\\left(1-\\kappa_{1} v_{1}\\right)}$$\n",
    "\n",
    "and $\\lambda_{m, w} \\equiv(1-\\theta) A_{2} \\kappa_{1}$"
   ]
  },
  {
   "cell_type": "code",
   "execution_count": 293,
   "metadata": {},
   "outputs": [],
   "source": [
    "@unpack θ, φ, φe, ν₁, σw, ρ, σ̄ = p2;"
   ]
  },
  {
   "cell_type": "code",
   "execution_count": 303,
   "metadata": {},
   "outputs": [
    {
     "data": {
      "text/plain": [
       "-13040.204149235058"
      ]
     },
     "execution_count": 303,
     "metadata": {},
     "output_type": "execute_result"
    }
   ],
   "source": [
    "κ₁ = 0.998\n",
    "A1 = (1-1/φ)/(1-κ₁ * ρ) # Eq. A5\n",
    "A2 = 0.5 * ((θ - θ/φ)^2 + (θ * A1 * κ₁ * φe)^2)/θ/(1-κ₁ * ν₁) # Eq. A7\n",
    "λmw = (1-θ) * A2 * κ₁ # defined below Eq. A10"
   ]
  },
  {
   "cell_type": "code",
   "execution_count": 304,
   "metadata": {},
   "outputs": [
    {
     "data": {
      "text/plain": [
       "0.038552066970095035"
      ]
     },
     "execution_count": 304,
     "metadata": {},
     "output_type": "execute_result"
    }
   ],
   "source": [
    "κ₁ * A2 * λmw * σw^2 * 100 * 12"
   ]
  },
  {
   "cell_type": "markdown",
   "metadata": {},
   "source": [
    "The term related with stochastic volatility is only 0.05% at the current calibration.\n",
    "\n",
    "I considered whether they mistyped the magnitude of $\\sigma_w$. However, if we use $\\sigma_w=2.3\\times 10^{-5}$, then we have a way too much larger effect on risk premium: 3.8% increase in consumption."
   ]
  },
  {
   "cell_type": "markdown",
   "metadata": {},
   "source": [
    "Another possibility is I misinterpreted the parameters from their paper. Gomez has casted the model in continuous time version, and his interpretation is consistent with mine, and we also get the similar results."
   ]
  }
 ],
 "metadata": {
  "kernelspec": {
   "display_name": "Julia 1.5.0",
   "language": "julia",
   "name": "julia-1.5"
  },
  "language_info": {
   "file_extension": ".jl",
   "mimetype": "application/julia",
   "name": "julia",
   "version": "1.5.0"
  }
 },
 "nbformat": 4,
 "nbformat_minor": 4
}
